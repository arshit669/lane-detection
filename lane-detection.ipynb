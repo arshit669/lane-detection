{
 "cells": [
  {
   "cell_type": "code",
   "execution_count": 1,
   "metadata": {
    "id": "dXJb-2_V9c-3"
   },
   "outputs": [
    {
     "name": "stderr",
     "output_type": "stream",
     "text": [
      "2024-08-11 02:20:51.715700: I tensorflow/core/platform/cpu_feature_guard.cc:210] This TensorFlow binary is optimized to use available CPU instructions in performance-critical operations.\n",
      "To enable the following instructions: AVX2 AVX512F FMA, in other operations, rebuild TensorFlow with the appropriate compiler flags.\n",
      "2024-08-11 02:21:04.484661: W tensorflow/compiler/tf2tensorrt/utils/py_utils.cc:38] TF-TRT Warning: Could not find TensorRT\n"
     ]
    },
    {
     "name": "stdout",
     "output_type": "stream",
     "text": [
      "Shape of train_images: (1000, 256, 256, 3)\n",
      "Shape of train_masks: (1000, 256, 256, 1)\n",
      "Shape of val_images: (1000, 256, 256, 3)\n",
      "Shape of val_masks: (1000, 256, 256, 1)\n"
     ]
    }
   ],
   "source": [
    "import cv2\n",
    "import numpy as np\n",
    "import boto3\n",
    "import tensorflow as tf\n",
    "from io import BytesIO\n",
    "from PIL import Image\n",
    "from botocore.exceptions import NoCredentialsError\n",
    "\n",
    "# Initialize S3 client\n",
    "s3 = boto3.client('s3')\n",
    "\n",
    "def download_image_from_s3(bucket_name, s3_key):\n",
    "    try:\n",
    "        response = s3.get_object(Bucket=bucket_name, Key=s3_key)\n",
    "        img_data = response['Body'].read()\n",
    "        return Image.open(BytesIO(img_data))\n",
    "    except NoCredentialsError:\n",
    "        print(\"Credentials not available\")\n",
    "    except Exception as e:\n",
    "        print(f\"Error downloading {s3_key}: {e}\")\n",
    "        return None\n",
    "\n",
    "def preprocess_image(image, target_size=(256, 256)):\n",
    "    image = image.resize(target_size)\n",
    "    image = np.array(image) / 255.0  # Normalize to [0, 1]\n",
    "    return image\n",
    "\n",
    "def preprocess_mask(mask, target_size=(256, 256)):\n",
    "    mask = mask.resize(target_size, Image.NEAREST)\n",
    "    mask = np.array(mask) / 255.0  # Normalize to [0, 1]\n",
    "    mask = np.expand_dims(mask, axis=-1)  # Add channel dimension\n",
    "    return mask\n",
    "\n",
    "def color_lanes(image, mask):\n",
    "    colored_image = image.copy()\n",
    "    blue_color = [255, 0, 0]  # Blue color in BGR format\n",
    "    colored_image[mask.squeeze() > 0] = blue_color\n",
    "    return colored_image\n",
    "\n",
    "def load_data(image_keys, mask_keys, bucket_name):\n",
    "    images, masks = [], []\n",
    "    for image_key, mask_key in zip(image_keys, mask_keys):\n",
    "        image = download_image_from_s3(bucket_name, image_key)\n",
    "        mask = download_image_from_s3(bucket_name, mask_key)\n",
    "        if image and mask:\n",
    "            try:\n",
    "                image = preprocess_image(image)\n",
    "                mask = preprocess_mask(mask)\n",
    "                colored_image = color_lanes(image, mask)\n",
    "                images.append(colored_image)\n",
    "                masks.append(mask)\n",
    "            except Exception as e:\n",
    "                print(f\"Error processing image or mask: {e}\")\n",
    "                continue\n",
    "    return np.array(images), np.array(masks)  # Convert lists to numpy array\n",
    "\n",
    "# Define S3 paths\n",
    "bucket_name = 'lanedetectiondemo'\n",
    "train_images_s3_prefix = 'bdd100k_lane_labels_trainval/10k_images_train/bdd100k/images/10k/train/'\n",
    "train_masks_s3_prefix = 'bdd100k_lane_labels_trainval/bdd100k_lane_labels_trainval/bdd100k/labels/lane/masks/train/'\n",
    "val_images_s3_prefix = 'bdd100k_lane_labels_trainval/10k_images_val/bdd100k/images/10k/val/'\n",
    "val_masks_s3_prefix = 'bdd100k_lane_labels_trainval/bdd100k_lane_labels_trainval/bdd100k/labels/lane/masks/val/'\n",
    "\n",
    "def list_s3_files(bucket_name, prefix):\n",
    "    response = s3.list_objects_v2(Bucket=bucket_name, Prefix=prefix)\n",
    "    return [content['Key'] for content in response.get('Contents', [])]\n",
    "\n",
    "# List files in S3 directories\n",
    "train_image_keys = list_s3_files(bucket_name, train_images_s3_prefix)\n",
    "train_mask_keys = list_s3_files(bucket_name, train_masks_s3_prefix)\n",
    "val_image_keys = list_s3_files(bucket_name, val_images_s3_prefix)\n",
    "val_mask_keys = list_s3_files(bucket_name, val_masks_s3_prefix)\n",
    "\n",
    "# Ensure corresponding image and mask keys are correctly paired\n",
    "train_image_keys.sort()\n",
    "train_mask_keys.sort()\n",
    "val_image_keys.sort()\n",
    "val_mask_keys.sort()\n",
    "\n",
    "# Load data from S3\n",
    "train_images, train_masks = load_data(train_image_keys, train_mask_keys, bucket_name)\n",
    "val_images, val_masks = load_data(val_image_keys, val_mask_keys, bucket_name)\n",
    "\n",
    "# Print shapes to verify\n",
    "print(\"Shape of train_images:\", train_images.shape)\n",
    "print(\"Shape of train_masks:\", train_masks.shape)\n",
    "print(\"Shape of val_images:\", val_images.shape)\n",
    "print(\"Shape of val_masks:\", val_masks.shape)\n",
    "\n",
    "assert train_images.shape[1:] == (256, 256, 3), \"Train images have incorrect shape\"\n",
    "assert train_masks.shape[1:] == (256, 256, 1), \"Train masks have incorrect shape\"\n",
    "assert val_images.shape[1:] == (256, 256, 3), \"Validation images have incorrect shape\"\n",
    "assert val_masks.shape[1:] == (256, 256, 1), \"Validation masks have incorrect shape\""
   ]
  },
  {
   "cell_type": "code",
   "execution_count": 2,
   "metadata": {
    "id": "zoYM4rs89dCC"
   },
   "outputs": [
    {
     "name": "stderr",
     "output_type": "stream",
     "text": [
      "2024-08-11 02:24:52.302591: E external/local_xla/xla/stream_executor/cuda/cuda_driver.cc:282] failed call to cuInit: CUDA_ERROR_NO_DEVICE: no CUDA-capable device is detected\n"
     ]
    },
    {
     "name": "stdout",
     "output_type": "stream",
     "text": [
      "Model: \"model\"\n",
      "__________________________________________________________________________________________________\n",
      " Layer (type)                Output Shape                 Param #   Connected to                  \n",
      "==================================================================================================\n",
      " input_1 (InputLayer)        [(None, 256, 256, 3)]        0         []                            \n",
      "                                                                                                  \n",
      " conv2d (Conv2D)             (None, 256, 256, 64)         1792      ['input_1[0][0]']             \n",
      "                                                                                                  \n",
      " max_pooling2d (MaxPooling2  (None, 128, 128, 64)         0         ['conv2d[0][0]']              \n",
      " D)                                                                                               \n",
      "                                                                                                  \n",
      " conv2d_1 (Conv2D)           (None, 128, 128, 128)        73856     ['max_pooling2d[0][0]']       \n",
      "                                                                                                  \n",
      " max_pooling2d_1 (MaxPoolin  (None, 64, 64, 128)          0         ['conv2d_1[0][0]']            \n",
      " g2D)                                                                                             \n",
      "                                                                                                  \n",
      " up_sampling2d (UpSampling2  (None, 128, 128, 128)        0         ['max_pooling2d_1[0][0]']     \n",
      " D)                                                                                               \n",
      "                                                                                                  \n",
      " concatenate (Concatenate)   (None, 128, 128, 256)        0         ['up_sampling2d[0][0]',       \n",
      "                                                                     'conv2d_1[0][0]']            \n",
      "                                                                                                  \n",
      " conv2d_2 (Conv2D)           (None, 128, 128, 64)         147520    ['concatenate[0][0]']         \n",
      "                                                                                                  \n",
      " up_sampling2d_1 (UpSamplin  (None, 256, 256, 64)         0         ['conv2d_2[0][0]']            \n",
      " g2D)                                                                                             \n",
      "                                                                                                  \n",
      " concatenate_1 (Concatenate  (None, 256, 256, 128)        0         ['up_sampling2d_1[0][0]',     \n",
      " )                                                                   'conv2d[0][0]']              \n",
      "                                                                                                  \n",
      " conv2d_3 (Conv2D)           (None, 256, 256, 32)         36896     ['concatenate_1[0][0]']       \n",
      "                                                                                                  \n",
      " conv2d_4 (Conv2D)           (None, 256, 256, 1)          33        ['conv2d_3[0][0]']            \n",
      "                                                                                                  \n",
      "==================================================================================================\n",
      "Total params: 260097 (1016.00 KB)\n",
      "Trainable params: 260097 (1016.00 KB)\n",
      "Non-trainable params: 0 (0.00 Byte)\n",
      "__________________________________________________________________________________________________\n"
     ]
    }
   ],
   "source": [
    "from tensorflow.keras.models import Model\n",
    "from tensorflow.keras.layers import Input, Conv2D, MaxPooling2D, UpSampling2D, concatenate\n",
    "\n",
    "def build_fcn(input_shape=(256, 256, 3), num_classes=1):\n",
    "    inputs = Input(input_shape)\n",
    "\n",
    "    # Encoder\n",
    "    c1 = Conv2D(64, (3, 3), activation='relu', padding='same')(inputs)\n",
    "    p1 = MaxPooling2D((2, 2))(c1)\n",
    "\n",
    "    c2 = Conv2D(128, (3, 3), activation='relu', padding='same')(p1)\n",
    "    p2 = MaxPooling2D((2, 2))(c2)\n",
    "\n",
    "    # Decoder\n",
    "    u1 = UpSampling2D((2, 2))(p2)\n",
    "    concat1 = concatenate([u1, c2])\n",
    "    c3 = Conv2D(64, (3, 3), activation='relu', padding='same')(concat1)\n",
    "\n",
    "    u2 = UpSampling2D((2, 2))(c3)\n",
    "    concat2 = concatenate([u2, c1])\n",
    "    c4 = Conv2D(32, (3, 3), activation='relu', padding='same')(concat2)\n",
    "\n",
    "    outputs = Conv2D(num_classes, (1, 1), activation='sigmoid')(c4)\n",
    "\n",
    "    model = Model(inputs, outputs)\n",
    "    return model\n",
    "\n",
    "model = build_fcn()\n",
    "model.compile(optimizer='adam', loss='binary_crossentropy', metrics=['accuracy'])\n",
    "model.summary()\n",
    "\n"
   ]
  },
  {
   "cell_type": "code",
   "execution_count": 3,
   "metadata": {
    "id": "-1xLiPQz9dEv"
   },
   "outputs": [
    {
     "name": "stdout",
     "output_type": "stream",
     "text": [
      "Epoch 1/10\n",
      "125/125 [==============================] - 283s 2s/step - loss: 0.5612 - accuracy: 0.9771 - val_loss: 0.0376 - val_accuracy: 0.9935\n",
      "Epoch 2/10\n",
      "125/125 [==============================] - 269s 2s/step - loss: 0.0376 - accuracy: 0.9934 - val_loss: 0.0368 - val_accuracy: 0.9935\n",
      "Epoch 3/10\n",
      "125/125 [==============================] - 268s 2s/step - loss: 0.0374 - accuracy: 0.9934 - val_loss: 0.0368 - val_accuracy: 0.9935\n",
      "Epoch 4/10\n",
      "125/125 [==============================] - 269s 2s/step - loss: 0.0380 - accuracy: 0.9934 - val_loss: 0.0367 - val_accuracy: 0.9935\n",
      "Epoch 5/10\n",
      "125/125 [==============================] - 269s 2s/step - loss: 0.0377 - accuracy: 0.9934 - val_loss: 0.0367 - val_accuracy: 0.9935\n",
      "Epoch 6/10\n",
      "125/125 [==============================] - 270s 2s/step - loss: 0.0376 - accuracy: 0.9934 - val_loss: 0.0388 - val_accuracy: 0.9935\n",
      "Epoch 7/10\n",
      "125/125 [==============================] - 269s 2s/step - loss: 0.0377 - accuracy: 0.9934 - val_loss: 0.0387 - val_accuracy: 0.9935\n",
      "Epoch 8/10\n",
      "125/125 [==============================] - 270s 2s/step - loss: 0.0381 - accuracy: 0.9934 - val_loss: 0.0369 - val_accuracy: 0.9935\n",
      "Epoch 9/10\n",
      "125/125 [==============================] - 269s 2s/step - loss: 0.0376 - accuracy: 0.9934 - val_loss: 0.0386 - val_accuracy: 0.9935\n",
      "Epoch 10/10\n",
      "125/125 [==============================] - 270s 2s/step - loss: 0.0380 - accuracy: 0.9934 - val_loss: 0.0368 - val_accuracy: 0.9935\n"
     ]
    },
    {
     "data": {
      "text/plain": [
       "<tf_keras.src.callbacks.History at 0x7f405840a2c0>"
      ]
     },
     "execution_count": 3,
     "metadata": {},
     "output_type": "execute_result"
    }
   ],
   "source": [
    "model.fit(train_images, train_masks, validation_data=(val_images, val_masks), epochs=10, batch_size=8)\n"
   ]
  },
  {
   "cell_type": "code",
   "execution_count": 4,
   "metadata": {
    "id": "LsPRQ76s9dH9"
   },
   "outputs": [
    {
     "name": "stderr",
     "output_type": "stream",
     "text": [
      "2024-08-11 03:10:02.850371: W external/local_tsl/tsl/framework/cpu_allocator_impl.cc:83] Allocation of 1073741824 exceeds 10% of free system memory.\n"
     ]
    },
    {
     "name": "stdout",
     "output_type": "stream",
     "text": [
      " 1/32 [..............................] - ETA: 56s - loss: 0.0414 - accuracy: 0.9925"
     ]
    },
    {
     "name": "stderr",
     "output_type": "stream",
     "text": [
      "2024-08-11 03:10:04.335641: W external/local_tsl/tsl/framework/cpu_allocator_impl.cc:83] Allocation of 1073741824 exceeds 10% of free system memory.\n"
     ]
    },
    {
     "name": "stdout",
     "output_type": "stream",
     "text": [
      " 2/32 [>.............................] - ETA: 44s - loss: 0.0363 - accuracy: 0.9936"
     ]
    },
    {
     "name": "stderr",
     "output_type": "stream",
     "text": [
      "2024-08-11 03:10:05.818631: W external/local_tsl/tsl/framework/cpu_allocator_impl.cc:83] Allocation of 1073741824 exceeds 10% of free system memory.\n"
     ]
    },
    {
     "name": "stdout",
     "output_type": "stream",
     "text": [
      " 3/32 [=>............................] - ETA: 43s - loss: 0.0385 - accuracy: 0.9931"
     ]
    },
    {
     "name": "stderr",
     "output_type": "stream",
     "text": [
      "2024-08-11 03:10:07.304680: W external/local_tsl/tsl/framework/cpu_allocator_impl.cc:83] Allocation of 1073741824 exceeds 10% of free system memory.\n"
     ]
    },
    {
     "name": "stdout",
     "output_type": "stream",
     "text": [
      " 4/32 [==>...........................] - ETA: 41s - loss: 0.0386 - accuracy: 0.9931"
     ]
    },
    {
     "name": "stderr",
     "output_type": "stream",
     "text": [
      "2024-08-11 03:10:08.787141: W external/local_tsl/tsl/framework/cpu_allocator_impl.cc:83] Allocation of 1073741824 exceeds 10% of free system memory.\n"
     ]
    },
    {
     "name": "stdout",
     "output_type": "stream",
     "text": [
      "32/32 [==============================] - 47s 1s/step - loss: 0.0368 - accuracy: 0.9935\n",
      "Validation loss: 0.03676304966211319\n",
      "Validation accuracy: 0.9934535622596741\n"
     ]
    }
   ],
   "source": [
    "loss, accuracy = model.evaluate(val_images, val_masks)\n",
    "print(f'Validation loss: {loss}')\n",
    "print(f'Validation accuracy: {accuracy}')\n"
   ]
  },
  {
   "cell_type": "code",
   "execution_count": 5,
   "metadata": {
    "id": "_KVUsILn9yWv"
   },
   "outputs": [
    {
     "name": "stdout",
     "output_type": "stream",
     "text": [
      "32/32 [==============================] - 47s 1s/step\n"
     ]
    },
    {
     "name": "stderr",
     "output_type": "stream",
     "text": [
      "Clipping input data to the valid range for imshow with RGB data ([0..1] for floats or [0..255] for integers).\n",
      "Clipping input data to the valid range for imshow with RGB data ([0..1] for floats or [0..255] for integers).\n",
      "Clipping input data to the valid range for imshow with RGB data ([0..1] for floats or [0..255] for integers).\n"
     ]
    },
    {
     "data": {
      "image/png": "[encoded data removed]",
      "text/plain": [
       "<Figure size 1200x600 with 9 Axes>"
      ]
     },
     "metadata": {},
     "output_type": "display_data"
    }
   ],
   "source": [
    "import matplotlib.pyplot as plt\n",
    "\n",
    "def visualize_predictions(images, masks, predictions):\n",
    "    plt.figure(figsize=(12, 6))\n",
    "    for i in range(3):\n",
    "        plt.subplot(3, 3, i*3 + 1)\n",
    "        plt.imshow(images[i])\n",
    "        plt.title('Input Image')\n",
    "\n",
    "        plt.subplot(3, 3, i*3 + 2)\n",
    "        plt.imshow(masks[i].squeeze(), cmap='gray')\n",
    "        plt.title('Ground Truth')\n",
    "\n",
    "        plt.subplot(3, 3, i*3 + 3)\n",
    "        plt.imshow(predictions[i].squeeze(), cmap='gray')\n",
    "        plt.title('Prediction')\n",
    "\n",
    "    plt.tight_layout()\n",
    "    plt.show()\n",
    "\n",
    "predictions = model.predict(val_images)\n",
    "visualize_predictions(val_images, val_masks, predictions)\n"
   ]
  },
  {
   "cell_type": "code",
   "execution_count": null,
   "metadata": {
    "id": "SkeZPRfS9yZR"
   },
   "outputs": [],
   "source": []
  },
  {
   "cell_type": "code",
   "execution_count": null,
   "metadata": {
    "id": "7bLnum7K9yb8"
   },
   "outputs": [],
   "source": []
  }
 ],
 "metadata": {
  "colab": {
   "provenance": []
  },
  "kernelspec": {
   "display_name": "conda_tensorflow2_p310",
   "language": "python",
   "name": "conda_tensorflow2_p310"
  },
  "language_info": {
   "codemirror_mode": {
    "name": "ipython",
    "version": 3
   },
   "file_extension": ".py",
   "mimetype": "text/x-python",
   "name": "python",
   "nbconvert_exporter": "python",
   "pygments_lexer": "ipython3",
   "version": "3.10.14"
  }
 },
 "nbformat": 4,
 "nbformat_minor": 1
}
